{
 "cells": [
  {
   "cell_type": "code",
   "execution_count": 1,
   "id": "saved-label",
   "metadata": {},
   "outputs": [
    {
     "name": "stdout",
     "output_type": "stream",
     "text": [
      "Requirement already satisfied: numpy in /srv/conda/envs/notebook/lib/python3.7/site-packages (1.20.3)\n",
      "Requirement already satisfied: pandas in /srv/conda/envs/notebook/lib/python3.7/site-packages (1.2.4)\n",
      "Requirement already satisfied: numpy>=1.16.5 in /srv/conda/envs/notebook/lib/python3.7/site-packages (from pandas) (1.20.3)\n",
      "Requirement already satisfied: pytz>=2017.3 in /srv/conda/envs/notebook/lib/python3.7/site-packages (from pandas) (2021.1)\n",
      "Requirement already satisfied: python-dateutil>=2.7.3 in /srv/conda/envs/notebook/lib/python3.7/site-packages (from pandas) (2.8.1)\n",
      "Requirement already satisfied: six>=1.5 in /srv/conda/envs/notebook/lib/python3.7/site-packages (from python-dateutil>=2.7.3->pandas) (1.15.0)\n",
      "Requirement already satisfied: sklearn in /srv/conda/envs/notebook/lib/python3.7/site-packages (0.0)\n",
      "Requirement already satisfied: scikit-learn in /srv/conda/envs/notebook/lib/python3.7/site-packages (from sklearn) (0.24.2)\n",
      "Requirement already satisfied: joblib>=0.11 in /srv/conda/envs/notebook/lib/python3.7/site-packages (from scikit-learn->sklearn) (1.0.1)\n",
      "Requirement already satisfied: threadpoolctl>=2.0.0 in /srv/conda/envs/notebook/lib/python3.7/site-packages (from scikit-learn->sklearn) (2.1.0)\n",
      "Requirement already satisfied: scipy>=0.19.1 in /srv/conda/envs/notebook/lib/python3.7/site-packages (from scikit-learn->sklearn) (1.6.3)\n",
      "Requirement already satisfied: numpy>=1.13.3 in /srv/conda/envs/notebook/lib/python3.7/site-packages (from scikit-learn->sklearn) (1.20.3)\n",
      "Requirement already satisfied: seaborn in /srv/conda/envs/notebook/lib/python3.7/site-packages (0.11.1)\n",
      "Requirement already satisfied: numpy>=1.15 in /srv/conda/envs/notebook/lib/python3.7/site-packages (from seaborn) (1.20.3)\n",
      "Requirement already satisfied: pandas>=0.23 in /srv/conda/envs/notebook/lib/python3.7/site-packages (from seaborn) (1.2.4)\n",
      "Requirement already satisfied: matplotlib>=2.2 in /srv/conda/envs/notebook/lib/python3.7/site-packages (from seaborn) (3.4.2)\n",
      "Requirement already satisfied: scipy>=1.0 in /srv/conda/envs/notebook/lib/python3.7/site-packages (from seaborn) (1.6.3)\n",
      "Requirement already satisfied: cycler>=0.10 in /srv/conda/envs/notebook/lib/python3.7/site-packages (from matplotlib>=2.2->seaborn) (0.10.0)\n",
      "Requirement already satisfied: python-dateutil>=2.7 in /srv/conda/envs/notebook/lib/python3.7/site-packages (from matplotlib>=2.2->seaborn) (2.8.1)\n",
      "Requirement already satisfied: kiwisolver>=1.0.1 in /srv/conda/envs/notebook/lib/python3.7/site-packages (from matplotlib>=2.2->seaborn) (1.3.1)\n",
      "Requirement already satisfied: pillow>=6.2.0 in /srv/conda/envs/notebook/lib/python3.7/site-packages (from matplotlib>=2.2->seaborn) (8.2.0)\n",
      "Requirement already satisfied: pyparsing>=2.2.1 in /srv/conda/envs/notebook/lib/python3.7/site-packages (from matplotlib>=2.2->seaborn) (2.4.7)\n",
      "Requirement already satisfied: six in /srv/conda/envs/notebook/lib/python3.7/site-packages (from cycler>=0.10->matplotlib>=2.2->seaborn) (1.15.0)\n",
      "Requirement already satisfied: pytz>=2017.3 in /srv/conda/envs/notebook/lib/python3.7/site-packages (from pandas>=0.23->seaborn) (2021.1)\n",
      "Requirement already satisfied: matplotlib in /srv/conda/envs/notebook/lib/python3.7/site-packages (3.4.2)\n",
      "Requirement already satisfied: cycler>=0.10 in /srv/conda/envs/notebook/lib/python3.7/site-packages (from matplotlib) (0.10.0)\n",
      "Requirement already satisfied: numpy>=1.16 in /srv/conda/envs/notebook/lib/python3.7/site-packages (from matplotlib) (1.20.3)\n",
      "Requirement already satisfied: pillow>=6.2.0 in /srv/conda/envs/notebook/lib/python3.7/site-packages (from matplotlib) (8.2.0)\n",
      "Requirement already satisfied: pyparsing>=2.2.1 in /srv/conda/envs/notebook/lib/python3.7/site-packages (from matplotlib) (2.4.7)\n",
      "Requirement already satisfied: python-dateutil>=2.7 in /srv/conda/envs/notebook/lib/python3.7/site-packages (from matplotlib) (2.8.1)\n",
      "Requirement already satisfied: kiwisolver>=1.0.1 in /srv/conda/envs/notebook/lib/python3.7/site-packages (from matplotlib) (1.3.1)\n",
      "Requirement already satisfied: six in /srv/conda/envs/notebook/lib/python3.7/site-packages (from cycler>=0.10->matplotlib) (1.15.0)\n",
      "Requirement already satisfied: openpyxl in /srv/conda/envs/notebook/lib/python3.7/site-packages (3.0.7)\n",
      "Requirement already satisfied: et-xmlfile in /srv/conda/envs/notebook/lib/python3.7/site-packages (from openpyxl) (1.1.0)\n"
     ]
    }
   ],
   "source": [
    "\n",
    "#try:\n",
    "#   \n",
    "#    import numpy as np\n",
    "#    import pandas as pd\n",
    "#    import matplotlib.pyplot as plt\n",
    "#    import seaborn as sns\n",
    "#\n",
    "#except:\n",
    "\n",
    "    #initialize packges\n",
    "!pip install numpy\n",
    "!pip install pandas\n",
    "!pip install sklearn\n",
    "!pip install seaborn\n",
    "!pip install matplotlib\n",
    "!pip install openpyxl\n",
    "import numpy as np\n",
    "import pandas as pd\n",
    "# data visualization\n",
    "import seaborn as sns\n",
    "%matplotlib inline\n",
    "from matplotlib import pyplot as plt\n",
    "from matplotlib import style\n",
    "# Algorithms\n",
    "from sklearn import linear_model\n",
    "from sklearn.linear_model import LogisticRegression\n",
    "from sklearn.ensemble import RandomForestClassifier\n",
    "from sklearn.linear_model import Perceptron\n",
    "from sklearn.linear_model import SGDClassifier\n",
    "from sklearn.tree import DecisionTreeClassifier\n",
    "from sklearn.neighbors import KNeighborsClassifier\n",
    "from sklearn.svm import SVC, LinearSVC\n",
    "from sklearn.naive_bayes import GaussianNB\n",
    "\n"
   ]
  },
  {
   "cell_type": "code",
   "execution_count": 2,
   "id": "combined-fence",
   "metadata": {},
   "outputs": [],
   "source": [
    "#Cria função para ajudar na conversão para Float ( foi feito apartir da visualização de algusn dados da base)"
   ]
  },
  {
   "cell_type": "code",
   "execution_count": 3,
   "id": "measured-enhancement",
   "metadata": {},
   "outputs": [],
   "source": [
    "#def convertfloatfromtitanic(value):    \n",
    "#        try:\n",
    "#            return float(value)\n",
    "#        except (ValueError, TypeError):\n",
    "#            return float(str(value).replace('.','',1))\n",
    "#        return default"
   ]
  },
  {
   "cell_type": "code",
   "execution_count": 4,
   "id": "greenhouse-turtle",
   "metadata": {},
   "outputs": [],
   "source": [
    "#importa a base de dados para o projeto"
   ]
  },
  {
   "cell_type": "code",
   "execution_count": 5,
   "id": "answering-editing",
   "metadata": {},
   "outputs": [
    {
     "name": "stderr",
     "output_type": "stream",
     "text": [
      "/srv/conda/envs/notebook/lib/python3.7/site-packages/openpyxl/worksheet/_reader.py:312: UserWarning: Unknown extension is not supported and will be removed\n",
      "  warn(msg)\n"
     ]
    }
   ],
   "source": [
    "mydb = pd.read_excel(\"titanic_reduced_database.xlsx\")"
   ]
  },
  {
   "cell_type": "code",
   "execution_count": 6,
   "id": "earned-thousand",
   "metadata": {},
   "outputs": [
    {
     "name": "stdout",
     "output_type": "stream",
     "text": [
      "<class 'pandas.core.frame.DataFrame'>\n",
      "RangeIndex: 891 entries, 0 to 890\n",
      "Data columns (total 12 columns):\n",
      " #   Column                    Non-Null Count  Dtype  \n",
      "---  ------                    --------------  -----  \n",
      " 0   id_passageiro             891 non-null    int64  \n",
      " 1   sobrevivente              891 non-null    object \n",
      " 2   classe_da_passagem        891 non-null    int64  \n",
      " 3   nome_passageiro           891 non-null    object \n",
      " 4   sexo                      891 non-null    object \n",
      " 5   idade                     714 non-null    float64\n",
      " 6   irmaos_ou_esposa_a_bordo  891 non-null    int64  \n",
      " 7   pais_filhos_a_bordo       891 non-null    int64  \n",
      " 8   numero_passagem           891 non-null    object \n",
      " 9   valor_passagem            891 non-null    float64\n",
      " 10  id_cabine                 204 non-null    object \n",
      " 11  local_de_embarque         889 non-null    object \n",
      "dtypes: float64(2), int64(4), object(6)\n",
      "memory usage: 83.7+ KB\n"
     ]
    }
   ],
   "source": [
    "mydb.info()"
   ]
  },
  {
   "cell_type": "code",
   "execution_count": 7,
   "id": "dedicated-death",
   "metadata": {},
   "outputs": [
    {
     "data": {
      "text/html": [
       "<div>\n",
       "<style scoped>\n",
       "    .dataframe tbody tr th:only-of-type {\n",
       "        vertical-align: middle;\n",
       "    }\n",
       "\n",
       "    .dataframe tbody tr th {\n",
       "        vertical-align: top;\n",
       "    }\n",
       "\n",
       "    .dataframe thead th {\n",
       "        text-align: right;\n",
       "    }\n",
       "</style>\n",
       "<table border=\"1\" class=\"dataframe\">\n",
       "  <thead>\n",
       "    <tr style=\"text-align: right;\">\n",
       "      <th></th>\n",
       "      <th>id_passageiro</th>\n",
       "      <th>sobrevivente</th>\n",
       "      <th>classe_da_passagem</th>\n",
       "      <th>nome_passageiro</th>\n",
       "      <th>sexo</th>\n",
       "      <th>idade</th>\n",
       "      <th>irmaos_ou_esposa_a_bordo</th>\n",
       "      <th>pais_filhos_a_bordo</th>\n",
       "      <th>numero_passagem</th>\n",
       "      <th>valor_passagem</th>\n",
       "      <th>id_cabine</th>\n",
       "      <th>local_de_embarque</th>\n",
       "    </tr>\n",
       "  </thead>\n",
       "  <tbody>\n",
       "    <tr>\n",
       "      <th>0</th>\n",
       "      <td>1</td>\n",
       "      <td>nao</td>\n",
       "      <td>3</td>\n",
       "      <td>Braund, Mr. Owen Harris</td>\n",
       "      <td>male</td>\n",
       "      <td>22.0</td>\n",
       "      <td>1</td>\n",
       "      <td>0</td>\n",
       "      <td>A/5 21171</td>\n",
       "      <td>7.25</td>\n",
       "      <td>NaN</td>\n",
       "      <td>S</td>\n",
       "    </tr>\n",
       "    <tr>\n",
       "      <th>1</th>\n",
       "      <td>2</td>\n",
       "      <td>sim</td>\n",
       "      <td>1</td>\n",
       "      <td>Cumings, Mrs. John Bradley (Florence Briggs Th...</td>\n",
       "      <td>female</td>\n",
       "      <td>38.0</td>\n",
       "      <td>1</td>\n",
       "      <td>0</td>\n",
       "      <td>PC 17599</td>\n",
       "      <td>712833.00</td>\n",
       "      <td>C85</td>\n",
       "      <td>C</td>\n",
       "    </tr>\n",
       "    <tr>\n",
       "      <th>2</th>\n",
       "      <td>3</td>\n",
       "      <td>sim</td>\n",
       "      <td>3</td>\n",
       "      <td>Heikkinen, Miss. Laina</td>\n",
       "      <td>female</td>\n",
       "      <td>26.0</td>\n",
       "      <td>0</td>\n",
       "      <td>0</td>\n",
       "      <td>STON/O2. 3101282</td>\n",
       "      <td>7925.00</td>\n",
       "      <td>NaN</td>\n",
       "      <td>S</td>\n",
       "    </tr>\n",
       "    <tr>\n",
       "      <th>3</th>\n",
       "      <td>4</td>\n",
       "      <td>sim</td>\n",
       "      <td>1</td>\n",
       "      <td>Futrelle, Mrs. Jacques Heath (Lily May Peel)</td>\n",
       "      <td>female</td>\n",
       "      <td>35.0</td>\n",
       "      <td>1</td>\n",
       "      <td>0</td>\n",
       "      <td>113803</td>\n",
       "      <td>53.10</td>\n",
       "      <td>C123</td>\n",
       "      <td>S</td>\n",
       "    </tr>\n",
       "    <tr>\n",
       "      <th>4</th>\n",
       "      <td>5</td>\n",
       "      <td>nao</td>\n",
       "      <td>3</td>\n",
       "      <td>Allen, Mr. William Henry</td>\n",
       "      <td>male</td>\n",
       "      <td>35.0</td>\n",
       "      <td>0</td>\n",
       "      <td>0</td>\n",
       "      <td>373450</td>\n",
       "      <td>8.05</td>\n",
       "      <td>NaN</td>\n",
       "      <td>S</td>\n",
       "    </tr>\n",
       "  </tbody>\n",
       "</table>\n",
       "</div>"
      ],
      "text/plain": [
       "   id_passageiro sobrevivente  classe_da_passagem  \\\n",
       "0              1          nao                   3   \n",
       "1              2          sim                   1   \n",
       "2              3          sim                   3   \n",
       "3              4          sim                   1   \n",
       "4              5          nao                   3   \n",
       "\n",
       "                                     nome_passageiro    sexo  idade  \\\n",
       "0                            Braund, Mr. Owen Harris    male   22.0   \n",
       "1  Cumings, Mrs. John Bradley (Florence Briggs Th...  female   38.0   \n",
       "2                             Heikkinen, Miss. Laina  female   26.0   \n",
       "3       Futrelle, Mrs. Jacques Heath (Lily May Peel)  female   35.0   \n",
       "4                           Allen, Mr. William Henry    male   35.0   \n",
       "\n",
       "   irmaos_ou_esposa_a_bordo  pais_filhos_a_bordo   numero_passagem  \\\n",
       "0                         1                    0         A/5 21171   \n",
       "1                         1                    0          PC 17599   \n",
       "2                         0                    0  STON/O2. 3101282   \n",
       "3                         1                    0            113803   \n",
       "4                         0                    0            373450   \n",
       "\n",
       "   valor_passagem id_cabine local_de_embarque  \n",
       "0            7.25       NaN                 S  \n",
       "1       712833.00       C85                 C  \n",
       "2         7925.00       NaN                 S  \n",
       "3           53.10      C123                 S  \n",
       "4            8.05       NaN                 S  "
      ]
     },
     "execution_count": 7,
     "metadata": {},
     "output_type": "execute_result"
    }
   ],
   "source": [
    "mydb.head()"
   ]
  },
  {
   "cell_type": "code",
   "execution_count": 8,
   "id": "decimal-reynolds",
   "metadata": {},
   "outputs": [],
   "source": [
    "# com isso foi notado a falta de alguns dados , que nesse primeiro momento de exploração da base \n",
    "# serão dropados quando forem requisitados, porem serão trados antes do treinamento\n",
    "# apartir disso tomamos como passo inicial verificar correlações entre os dados"
   ]
  },
  {
   "cell_type": "code",
   "execution_count": 9,
   "id": "southern-radio",
   "metadata": {},
   "outputs": [],
   "source": [
    "#convertemos a coluna sobrevivente para um valor binario 0 ou 1 para facilitar \n",
    "\n",
    "survive = {'sim' : 1, 'nao' : 0}\n",
    "\n",
    "mydb['sobrevivente'] = mydb['sobrevivente'].map(survive) \n"
   ]
  },
  {
   "cell_type": "code",
   "execution_count": 10,
   "id": "acting-radius",
   "metadata": {},
   "outputs": [],
   "source": [
    "# criada uma cópia da base para analise de dados\n",
    "\n",
    "data_for_analyis = mydb.copy()"
   ]
  },
  {
   "cell_type": "code",
   "execution_count": 11,
   "id": "downtown-belgium",
   "metadata": {},
   "outputs": [],
   "source": [
    "# criamos as primeiras correlações que aparentaram ser relevantes , sendo essas um agrupamento das idades\n",
    "# e um apontamento da existência de parentes na embarcação\n",
    "\n",
    "\n",
    "data_for_analyis['familia_a_bordo'] = (data_for_analyis['irmaos_ou_esposa_a_bordo'] > 0) | (data_for_analyis['pais_filhos_a_bordo'] > 0)\n",
    "data_for_analyis['classificacao_idade'] = pd.cut(data_for_analyis['idade'], [0, 15, 80], labels=['crianca', 'adulto'])"
   ]
  },
  {
   "cell_type": "code",
   "execution_count": 12,
   "id": "tropical-cleanup",
   "metadata": {},
   "outputs": [
    {
     "data": {
      "text/html": [
       "<div>\n",
       "<style scoped>\n",
       "    .dataframe tbody tr th:only-of-type {\n",
       "        vertical-align: middle;\n",
       "    }\n",
       "\n",
       "    .dataframe tbody tr th {\n",
       "        vertical-align: top;\n",
       "    }\n",
       "\n",
       "    .dataframe thead th {\n",
       "        text-align: right;\n",
       "    }\n",
       "</style>\n",
       "<table border=\"1\" class=\"dataframe\">\n",
       "  <thead>\n",
       "    <tr style=\"text-align: right;\">\n",
       "      <th></th>\n",
       "      <th>sobrevivente</th>\n",
       "      <th>classe_da_passagem</th>\n",
       "      <th>idade</th>\n",
       "      <th>valor_passagem</th>\n",
       "    </tr>\n",
       "  </thead>\n",
       "  <tbody>\n",
       "    <tr>\n",
       "      <th>count</th>\n",
       "      <td>891.000000</td>\n",
       "      <td>891.000000</td>\n",
       "      <td>714.000000</td>\n",
       "      <td>8.910000e+02</td>\n",
       "    </tr>\n",
       "    <tr>\n",
       "      <th>mean</th>\n",
       "      <td>0.383838</td>\n",
       "      <td>2.308642</td>\n",
       "      <td>29.699118</td>\n",
       "      <td>1.271697e+05</td>\n",
       "    </tr>\n",
       "    <tr>\n",
       "      <th>std</th>\n",
       "      <td>0.486592</td>\n",
       "      <td>0.836071</td>\n",
       "      <td>14.526497</td>\n",
       "      <td>4.112720e+05</td>\n",
       "    </tr>\n",
       "    <tr>\n",
       "      <th>min</th>\n",
       "      <td>0.000000</td>\n",
       "      <td>1.000000</td>\n",
       "      <td>0.420000</td>\n",
       "      <td>0.000000e+00</td>\n",
       "    </tr>\n",
       "    <tr>\n",
       "      <th>25%</th>\n",
       "      <td>0.000000</td>\n",
       "      <td>2.000000</td>\n",
       "      <td>20.125000</td>\n",
       "      <td>1.445000e+01</td>\n",
       "    </tr>\n",
       "    <tr>\n",
       "      <th>50%</th>\n",
       "      <td>0.000000</td>\n",
       "      <td>3.000000</td>\n",
       "      <td>28.000000</td>\n",
       "      <td>7.100000e+01</td>\n",
       "    </tr>\n",
       "    <tr>\n",
       "      <th>75%</th>\n",
       "      <td>1.000000</td>\n",
       "      <td>3.000000</td>\n",
       "      <td>38.000000</td>\n",
       "      <td>7.895800e+04</td>\n",
       "    </tr>\n",
       "    <tr>\n",
       "      <th>max</th>\n",
       "      <td>1.000000</td>\n",
       "      <td>3.000000</td>\n",
       "      <td>80.000000</td>\n",
       "      <td>5.123292e+06</td>\n",
       "    </tr>\n",
       "  </tbody>\n",
       "</table>\n",
       "</div>"
      ],
      "text/plain": [
       "       sobrevivente  classe_da_passagem       idade  valor_passagem\n",
       "count    891.000000          891.000000  714.000000    8.910000e+02\n",
       "mean       0.383838            2.308642   29.699118    1.271697e+05\n",
       "std        0.486592            0.836071   14.526497    4.112720e+05\n",
       "min        0.000000            1.000000    0.420000    0.000000e+00\n",
       "25%        0.000000            2.000000   20.125000    1.445000e+01\n",
       "50%        0.000000            3.000000   28.000000    7.100000e+01\n",
       "75%        1.000000            3.000000   38.000000    7.895800e+04\n",
       "max        1.000000            3.000000   80.000000    5.123292e+06"
      ]
     },
     "execution_count": 12,
     "metadata": {},
     "output_type": "execute_result"
    }
   ],
   "source": [
    "# removemos todas as informações pessoais que não seriam de grande ajuda para a analise( não impactam na sobrevivencia) ,\n",
    "# bem como a cabine uma vez que ela possui mais registros vazios do preenchidos e as informações relativas a parentesco\n",
    "# já que foram mescladas em uma nova feature\n",
    "\n",
    "data_for_analyis.drop(['id_passageiro', 'nome_passageiro', 'irmaos_ou_esposa_a_bordo', 'pais_filhos_a_bordo', 'numero_passagem', 'id_cabine'], axis=1, inplace=True)\n",
    "\n",
    "data_for_analyis.describe()"
   ]
  },
  {
   "cell_type": "code",
   "execution_count": 13,
   "id": "bigger-canal",
   "metadata": {},
   "outputs": [],
   "source": [
    "# para começar a analise o foram levantadas as seguintes possiveis corelações :\n",
    "# sexo como fator de sobrevivência\n",
    "# idade como fator de sobrevivência\n",
    "# classe como fator de sobrevivência\n",
    "# local de embarque como fator de sobreviência \n",
    "# presença de familia como fato de sobrevivência"
   ]
  },
  {
   "cell_type": "code",
   "execution_count": 14,
   "id": "quarterly-tuner",
   "metadata": {},
   "outputs": [
    {
     "data": {
      "text/plain": [
       "sexo\n",
       "female    0.7420\n",
       "male      0.1889\n",
       "Name: sobrevivente, dtype: float64"
      ]
     },
     "execution_count": 14,
     "metadata": {},
     "output_type": "execute_result"
    }
   ],
   "source": [
    "# relação sexo - sobrevivencia \n",
    "\n",
    "rate_sex = data_for_analyis.groupby('sexo')['sobrevivente'].mean().round(4)\n",
    "rate_sex"
   ]
  },
  {
   "cell_type": "code",
   "execution_count": 15,
   "id": "structural-enhancement",
   "metadata": {},
   "outputs": [
    {
     "data": {
      "text/plain": [
       "classificacao_idade\n",
       "crianca    0.5904\n",
       "adulto     0.3819\n",
       "Name: sobrevivente, dtype: float64"
      ]
     },
     "execution_count": 15,
     "metadata": {},
     "output_type": "execute_result"
    }
   ],
   "source": [
    "# relação idade - sobrevivencia \n",
    "\n",
    "rate_age = data_for_analyis.groupby('classificacao_idade')['sobrevivente'].mean().round(4)\n",
    "rate_age"
   ]
  },
  {
   "cell_type": "code",
   "execution_count": 16,
   "id": "constant-awareness",
   "metadata": {},
   "outputs": [
    {
     "data": {
      "text/plain": [
       "classe_da_passagem\n",
       "1    0.6296\n",
       "2    0.4728\n",
       "3    0.2424\n",
       "Name: sobrevivente, dtype: float64"
      ]
     },
     "execution_count": 16,
     "metadata": {},
     "output_type": "execute_result"
    }
   ],
   "source": [
    "# relação classe - sobrevivencia \n",
    "\n",
    "rate_class = data_for_analyis.groupby('classe_da_passagem')['sobrevivente'].mean().round(4)\n",
    "rate_class"
   ]
  },
  {
   "cell_type": "code",
   "execution_count": 17,
   "id": "romance-visitor",
   "metadata": {},
   "outputs": [
    {
     "data": {
      "text/plain": [
       "local_de_embarque\n",
       "C    0.5536\n",
       "Q    0.3896\n",
       "S    0.3370\n",
       "Name: sobrevivente, dtype: float64"
      ]
     },
     "execution_count": 17,
     "metadata": {},
     "output_type": "execute_result"
    }
   ],
   "source": [
    "# relação local de embarque - sobrevivencia\n",
    "\n",
    "rate_boarding = data_for_analyis.groupby('local_de_embarque')['sobrevivente'].mean().round(4)\n",
    "rate_boarding"
   ]
  },
  {
   "cell_type": "code",
   "execution_count": 18,
   "id": "placed-nickname",
   "metadata": {},
   "outputs": [
    {
     "data": {
      "text/plain": [
       "familia_a_bordo\n",
       "False    0.3035\n",
       "True     0.5056\n",
       "Name: sobrevivente, dtype: float64"
      ]
     },
     "execution_count": 18,
     "metadata": {},
     "output_type": "execute_result"
    }
   ],
   "source": [
    "# relação familia - sobrevivencia \n",
    "\n",
    "rate_family = data_for_analyis.groupby('familia_a_bordo')['sobrevivente'].mean().round(4)\n",
    "rate_family"
   ]
  },
  {
   "cell_type": "code",
   "execution_count": 19,
   "id": "native-parade",
   "metadata": {},
   "outputs": [],
   "source": [
    "# apos essa coleta de informações, foram gerados gráficos para melhor vizualizar os dados obtidos"
   ]
  },
  {
   "cell_type": "code",
   "execution_count": 20,
   "id": "canadian-hobby",
   "metadata": {},
   "outputs": [],
   "source": [
    "# função para escrita das labels nos gráficos\n",
    "def addlabels(plt,x,y,space,color):\n",
    "    for i in range(len(x)):\n",
    "        plt.text(i, y[i]+space, y[i], ha = 'center',\n",
    "                 bbox = dict(facecolor = color, alpha =.8))"
   ]
  },
  {
   "cell_type": "code",
   "execution_count": 21,
   "id": "organizational-damage",
   "metadata": {},
   "outputs": [
    {
     "data": {
      "image/png": "[encoded data removed]",
      "text/plain": [
       "<Figure size 1152x432 with 2 Axes>"
      ]
     },
     "metadata": {
      "needs_background": "light"
     },
     "output_type": "display_data"
    }
   ],
   "source": [
    "# Graficos Idade e Sexo\n",
    "fig, (axis1,axis2) = plt.subplots(1 ,2, figsize=(16,6))\n",
    "\n",
    "lbspace = .05\n",
    "\n",
    "axcolor = '#5975A4'\n",
    "ax = rate_sex.plot.bar(ax=axis1, color=axcolor, title='Sexo')\n",
    "ax.set_ylabel('Sobrevivência')\n",
    "ax.set_ylim(0.0,1.0)\n",
    "addlabels(ax,rate_sex,rate_sex,lbspace,axcolor)\n",
    "\n",
    "axcolor = '#5F9E6E'\n",
    "ax = rate_age.plot.bar(ax=axis2, color=axcolor, title='Idade')\n",
    "ax.set_ylim(0.0,1.0)\n",
    "addlabels(ax,rate_age,rate_age,lbspace,axcolor)\n"
   ]
  },
  {
   "cell_type": "code",
   "execution_count": 22,
   "id": "unavailable-occasion",
   "metadata": {},
   "outputs": [
    {
     "data": {
      "image/png": "[encoded data removed]",
      "text/plain": [
       "<Figure size 1152x432 with 3 Axes>"
      ]
     },
     "metadata": {
      "needs_background": "light"
     },
     "output_type": "display_data"
    }
   ],
   "source": [
    "# Graficos Classe , Embarque e Familia\n",
    "fig, (axis1,axis2,axis3) = plt.subplots(1 ,3, figsize=(16,6))\n",
    "\n",
    "lbspace = .05\n",
    "\n",
    "axcolor = '#c93636'\n",
    "ax = rate_class.plot.bar(ax=axis1, color=axcolor, title='Classe')\n",
    "ax.set_ylabel('Sobrevivência')\n",
    "ax.set_ylim(0.0,1.0)\n",
    "addlabels(ax,rate_class,np.array(rate_class),lbspace,axcolor) # razoes desconhecidas ele crashava sem convertar pra array\n",
    "\n",
    "axcolor = '#c1c928'\n",
    "ax = rate_boarding.plot.bar(ax=axis2, color=axcolor, title='Local de Embarque')\n",
    "ax.set_ylim(0.0,1.0)\n",
    "addlabels(ax,rate_boarding,rate_boarding,lbspace,axcolor)\n",
    "\n",
    "axcolor = '#9328c9'\n",
    "ax = rate_family.plot.bar(ax=axis3, color=axcolor, title='Familia')\n",
    "ax.set_ylim(0.0,1.0)\n",
    "addlabels(ax,rate_family,rate_family,lbspace,axcolor)\n"
   ]
  },
  {
   "cell_type": "code",
   "execution_count": 23,
   "id": "herbal-restaurant",
   "metadata": {},
   "outputs": [
    {
     "data": {
      "text/html": [
       "<div>\n",
       "<style scoped>\n",
       "    .dataframe tbody tr th:only-of-type {\n",
       "        vertical-align: middle;\n",
       "    }\n",
       "\n",
       "    .dataframe tbody tr th {\n",
       "        vertical-align: top;\n",
       "    }\n",
       "\n",
       "    .dataframe thead th {\n",
       "        text-align: right;\n",
       "    }\n",
       "</style>\n",
       "<table border=\"1\" class=\"dataframe\">\n",
       "  <thead>\n",
       "    <tr style=\"text-align: right;\">\n",
       "      <th></th>\n",
       "      <th></th>\n",
       "      <th></th>\n",
       "      <th>sobrevivente</th>\n",
       "      <th>total de pessoas</th>\n",
       "    </tr>\n",
       "    <tr>\n",
       "      <th>classe_da_passagem</th>\n",
       "      <th>sexo</th>\n",
       "      <th>classificacao_idade</th>\n",
       "      <th></th>\n",
       "      <th></th>\n",
       "    </tr>\n",
       "  </thead>\n",
       "  <tbody>\n",
       "    <tr>\n",
       "      <th rowspan=\"4\" valign=\"top\">1</th>\n",
       "      <th rowspan=\"2\" valign=\"top\">female</th>\n",
       "      <th>crianca</th>\n",
       "      <td>0.6667</td>\n",
       "      <td>3</td>\n",
       "    </tr>\n",
       "    <tr>\n",
       "      <th>adulto</th>\n",
       "      <td>0.9756</td>\n",
       "      <td>82</td>\n",
       "    </tr>\n",
       "    <tr>\n",
       "      <th rowspan=\"2\" valign=\"top\">male</th>\n",
       "      <th>crianca</th>\n",
       "      <td>1.0000</td>\n",
       "      <td>3</td>\n",
       "    </tr>\n",
       "    <tr>\n",
       "      <th>adulto</th>\n",
       "      <td>0.3776</td>\n",
       "      <td>98</td>\n",
       "    </tr>\n",
       "    <tr>\n",
       "      <th rowspan=\"4\" valign=\"top\">2</th>\n",
       "      <th rowspan=\"2\" valign=\"top\">female</th>\n",
       "      <th>crianca</th>\n",
       "      <td>1.0000</td>\n",
       "      <td>10</td>\n",
       "    </tr>\n",
       "    <tr>\n",
       "      <th>adulto</th>\n",
       "      <td>0.9062</td>\n",
       "      <td>64</td>\n",
       "    </tr>\n",
       "    <tr>\n",
       "      <th rowspan=\"2\" valign=\"top\">male</th>\n",
       "      <th>crianca</th>\n",
       "      <td>1.0000</td>\n",
       "      <td>9</td>\n",
       "    </tr>\n",
       "    <tr>\n",
       "      <th>adulto</th>\n",
       "      <td>0.0667</td>\n",
       "      <td>90</td>\n",
       "    </tr>\n",
       "    <tr>\n",
       "      <th rowspan=\"4\" valign=\"top\">3</th>\n",
       "      <th rowspan=\"2\" valign=\"top\">female</th>\n",
       "      <th>crianca</th>\n",
       "      <td>0.5333</td>\n",
       "      <td>30</td>\n",
       "    </tr>\n",
       "    <tr>\n",
       "      <th>adulto</th>\n",
       "      <td>0.4306</td>\n",
       "      <td>72</td>\n",
       "    </tr>\n",
       "    <tr>\n",
       "      <th rowspan=\"2\" valign=\"top\">male</th>\n",
       "      <th>crianca</th>\n",
       "      <td>0.3214</td>\n",
       "      <td>28</td>\n",
       "    </tr>\n",
       "    <tr>\n",
       "      <th>adulto</th>\n",
       "      <td>0.1289</td>\n",
       "      <td>225</td>\n",
       "    </tr>\n",
       "  </tbody>\n",
       "</table>\n",
       "</div>"
      ],
      "text/plain": [
       "                                               sobrevivente  total de pessoas\n",
       "classe_da_passagem sexo   classificacao_idade                                \n",
       "1                  female crianca                    0.6667                 3\n",
       "                          adulto                     0.9756                82\n",
       "                   male   crianca                    1.0000                 3\n",
       "                          adulto                     0.3776                98\n",
       "2                  female crianca                    1.0000                10\n",
       "                          adulto                     0.9062                64\n",
       "                   male   crianca                    1.0000                 9\n",
       "                          adulto                     0.0667                90\n",
       "3                  female crianca                    0.5333                30\n",
       "                          adulto                     0.4306                72\n",
       "                   male   crianca                    0.3214                28\n",
       "                          adulto                     0.1289               225"
      ]
     },
     "execution_count": 23,
     "metadata": {},
     "output_type": "execute_result"
    }
   ],
   "source": [
    "# Com isso conseguimos obter alguns dados intessantes primeiramente é possivél constatar que\n",
    "# mulheres e crianças são as duas populações que apresentam o maior indice de sobrevivientes com a maior clareza na distinção\n",
    "# o que nos faz conluir que nosso modelo terá que conter pelo menos essas duas features\n",
    "# os outros 3 relacionamentos por mais promissores que eles também paresçam, podem conter uma sobreposição entre eles\n",
    "# então foram feitos novos testes , tendo como base as features já selecionadas\n",
    "\n",
    "#ignorar texto de cima proem eu gostei dele , porem estou fazendo isso 3 da manhã\n",
    "## ------------------------------------\n",
    "\n",
    "## Com isso conseguimos obter alguns dados intessantes primeiramente é possivél constatar que\n",
    "## mulheres , crianças , passageiros da primeira classe tem altos indices de sobrevivência\n",
    "## o nos diz que as features 'classe_da_passagem' , 'sexo' e 'idade' são cruiciais na hora\n",
    "## de determinar a sobrevivência de um individuo, com isso em mente vamos fazer uma analize mais detalhada das mesmas\n",
    "\n",
    "\n",
    "grouped = pd.concat(\n",
    "    [data_for_analyis.groupby(['classe_da_passagem', 'sexo', 'classificacao_idade'])['sobrevivente'].mean().round(4),\n",
    "     data_for_analyis.groupby(['classe_da_passagem', 'sexo', 'classificacao_idade'])['sobrevivente'].count()],\n",
    "    axis=1)\n",
    "grouped.columns = ['sobrevivente', 'total de pessoas']\n",
    "grouped"
   ]
  },
  {
   "cell_type": "code",
   "execution_count": 24,
   "id": "individual-patch",
   "metadata": {},
   "outputs": [],
   "source": [
    "# to write on catplot bars \n",
    "def catplotbarswriter(ax):\n",
    "    for c in ax.containers:\n",
    "        labels = [f'{(v.get_height().round(4))}' for v in c]\n",
    "        ax.bar_label(c, labels=labels, label_type='edge')"
   ]
  },
  {
   "cell_type": "code",
   "execution_count": 75,
   "id": "reduced-atlantic",
   "metadata": {},
   "outputs": [
    {
     "data": {
      "image/png": "[encoded data removed]",
      "text/plain": [
       "<Figure size 1080x720 with 6 Axes>"
      ]
     },
     "metadata": {
      "needs_background": "light"
     },
     "output_type": "display_data"
    }
   ],
   "source": [
    "g = sns.catplot(\n",
    "    x='classificacao_idade', \n",
    "    y='sobrevivente', \n",
    "    col='classe_da_passagem',\n",
    "    row='sexo',\n",
    "    data=data_for_analyis,\n",
    "    margin_titles=True, \n",
    "    kind=\"bar\", \n",
    "    ci=None)\n",
    "\n",
    "# extract the matplotlib axes_subplot objects from the FacetGrid\n",
    "catplotbarswriter(g.facet_axis(0, 0))\n",
    "catplotbarswriter(g.facet_axis(0, 1))\n",
    "catplotbarswriter(g.facet_axis(0, 2))\n",
    "catplotbarswriter(g.facet_axis(1, 0))\n",
    "catplotbarswriter(g.facet_axis(1, 1))\n",
    "catplotbarswriter(g.facet_axis(1, 2))\n",
    "\n"
   ]
  },
  {
   "cell_type": "code",
   "execution_count": 26,
   "id": "emotional-quarter",
   "metadata": {},
   "outputs": [],
   "source": [
    "## Com isso conseguimos reparar alguns padrões nos sobreviventes, primeiramente houve uma priorização\n",
    "## de mulheres , crianças , passageiros da primeira nessa ordem, observamos também que a taxa de sobrevivencia\n",
    "## das crianças mulheres da 1º classe é 66% o que significa que 1 das 3 crianças morreu, e olhando graficamente\n",
    "## provavlemente foi por causa de algum fator aleatório, uma vez que todas as crianças da 1 e 2 classe foram salvas\n",
    "## com execessão dela"
   ]
  },
  {
   "cell_type": "code",
   "execution_count": 27,
   "id": "later-princess",
   "metadata": {},
   "outputs": [],
   "source": [
    "## antes de finalmente definir um modelo , vamos olhar a presença da familia nos sobreviventes"
   ]
  },
  {
   "cell_type": "code",
   "execution_count": 28,
   "id": "billion-postage",
   "metadata": {},
   "outputs": [
    {
     "data": {
      "image/png": "[encoded data removed]",
      "text/plain": [
       "<Figure size 1080x720 with 6 Axes>"
      ]
     },
     "metadata": {
      "needs_background": "light"
     },
     "output_type": "display_data"
    }
   ],
   "source": [
    "g = sns.catplot(\n",
    "    x='classificacao_idade', \n",
    "    y='familia_a_bordo', \n",
    "    col='classe_da_passagem',\n",
    "    row='sexo',\n",
    "    data=data_for_analyis[data_for_analyis['sobrevivente']==1],\n",
    "    margin_titles=True, \n",
    "    kind=\"bar\", \n",
    "    ci=None)\n",
    "\n",
    "catplotbarswriter(g.facet_axis(0, 0))\n",
    "catplotbarswriter(g.facet_axis(0, 1))\n",
    "catplotbarswriter(g.facet_axis(0, 2))\n",
    "catplotbarswriter(g.facet_axis(1, 0))\n",
    "catplotbarswriter(g.facet_axis(1, 1))\n",
    "catplotbarswriter(g.facet_axis(1, 2))\n"
   ]
  },
  {
   "cell_type": "code",
   "execution_count": 29,
   "id": "abstract-calendar",
   "metadata": {},
   "outputs": [],
   "source": [
    "## Com isso conseguimos reparar que a presença de parentes é algo quase que obrigatório para a sobrevivencia das crianças\n",
    "## porem essa fuature pode não ter masi nenhum relacionamento com as outras coisas"
   ]
  },
  {
   "cell_type": "code",
   "execution_count": 76,
   "id": "checked-complement",
   "metadata": {},
   "outputs": [
    {
     "data": {
      "image/png": "[encoded data removed]",
      "text/plain": [
       "<Figure size 720x720 with 4 Axes>"
      ]
     },
     "metadata": {
      "needs_background": "light"
     },
     "output_type": "display_data"
    }
   ],
   "source": [
    "#apagar\n",
    "\n",
    "g = sns.catplot(\n",
    "    x='classificacao_idade', \n",
    "    y='valor_passagem', \n",
    "    col='sobrevivente',\n",
    "    row='sexo',\n",
    "    data=data_for_analyis,\n",
    "    margin_titles=True, \n",
    "    kind=\"bar\", \n",
    "    ci=None)\n",
    "\n",
    "# extract the matplotlib axes_subplot objects from the FacetGrid\n",
    "catplotbarswriter(g.facet_axis(0, 0))\n",
    "catplotbarswriter(g.facet_axis(0, 1))\n",
    "catplotbarswriter(g.facet_axis(1, 0))\n",
    "catplotbarswriter(g.facet_axis(1, 1))\n",
    "\n"
   ]
  },
  {
   "cell_type": "code",
   "execution_count": 96,
   "id": "portable-helping",
   "metadata": {},
   "outputs": [],
   "source": [
    "## com essa analise feita vamos inicar a criação do modelo"
   ]
  },
  {
   "cell_type": "code",
   "execution_count": 122,
   "id": "secret-information",
   "metadata": {},
   "outputs": [],
   "source": [
    "fortest = mydb.copy()"
   ]
  },
  {
   "cell_type": "code",
   "execution_count": 123,
   "id": "handmade-mississippi",
   "metadata": {},
   "outputs": [
    {
     "data": {
      "text/plain": [
       "0"
      ]
     },
     "execution_count": 123,
     "metadata": {},
     "output_type": "execute_result"
    }
   ],
   "source": [
    "mean = fortest[\"idade\"].mean()\n",
    "std = fortest[\"idade\"].std()\n",
    "\n",
    "null_range = fortest[\"idade\"].isnull().sum()\n",
    "rand_age = np.random.randint(mean - std, mean + std, size = null_range)\n",
    "idadecolumn = fortest[\"idade\"].copy()\n",
    "idadecolumn[np.isnan(idadecolumn)] = rand_age\n",
    "fortest[\"idade\"] = idadecolumn\n",
    "fortest[\"idade\"] = fortest[\"idade\"].astype(int)\n",
    "fortest[\"idade\"].isnull().sum()"
   ]
  },
  {
   "cell_type": "code",
   "execution_count": 124,
   "id": "rural-large",
   "metadata": {},
   "outputs": [],
   "source": [
    "## criamos os mesmos grupos utilizados na analize de dados"
   ]
  },
  {
   "cell_type": "code",
   "execution_count": 125,
   "id": "corresponding-rally",
   "metadata": {},
   "outputs": [],
   "source": [
    "boarding = {'S' : 0, 'C' : 1,'Q' : 2}\n",
    "\n",
    "fortest['local_de_embarque'] = fortest['local_de_embarque'].fillna('S')\n",
    "fortest['local_de_embarque'] = fortest['local_de_embarque'].map(boarding) "
   ]
  },
  {
   "cell_type": "code",
   "execution_count": 126,
   "id": "coordinated-julian",
   "metadata": {},
   "outputs": [],
   "source": [
    "gender = {\"male\" : 0, \"female\" : 1}\n",
    "\n",
    "fortest[\"sexo\"] = fortest[\"sexo\"].map(gender)"
   ]
  },
  {
   "cell_type": "code",
   "execution_count": 127,
   "id": "continuous-anime",
   "metadata": {},
   "outputs": [],
   "source": [
    "fortest.drop(['id_passageiro','nome_passageiro', 'numero_passagem', 'id_cabine'], axis=1, inplace=True)\n"
   ]
  },
  {
   "cell_type": "code",
   "execution_count": 128,
   "id": "arranged-bibliography",
   "metadata": {},
   "outputs": [
    {
     "name": "stdout",
     "output_type": "stream",
     "text": [
      "<class 'pandas.core.frame.DataFrame'>\n",
      "RangeIndex: 891 entries, 0 to 890\n",
      "Data columns (total 8 columns):\n",
      " #   Column                    Non-Null Count  Dtype  \n",
      "---  ------                    --------------  -----  \n",
      " 0   sobrevivente              891 non-null    int64  \n",
      " 1   classe_da_passagem        891 non-null    int64  \n",
      " 2   sexo                      891 non-null    int64  \n",
      " 3   idade                     891 non-null    int64  \n",
      " 4   irmaos_ou_esposa_a_bordo  891 non-null    int64  \n",
      " 5   pais_filhos_a_bordo       891 non-null    int64  \n",
      " 6   valor_passagem            891 non-null    float64\n",
      " 7   local_de_embarque         891 non-null    int64  \n",
      "dtypes: float64(1), int64(7)\n",
      "memory usage: 55.8 KB\n"
     ]
    }
   ],
   "source": [
    "fortest.info()"
   ]
  },
  {
   "cell_type": "code",
   "execution_count": 129,
   "id": "tender-kinase",
   "metadata": {},
   "outputs": [],
   "source": [
    "X_train = fortest.drop(\"sobrevivente\", axis=1)\n",
    "Y_train = fortest[\"sobrevivente\"]\n",
    "X_test  = fortest.drop(columns=['sobrevivente']).copy()"
   ]
  },
  {
   "cell_type": "code",
   "execution_count": 130,
   "id": "interior-translator",
   "metadata": {},
   "outputs": [],
   "source": [
    "sgd = linear_model.SGDClassifier(max_iter=5, tol=None)\n",
    "sgd.fit(X_train, Y_train)\n",
    "Y_pred = sgd.predict(X_test)\n",
    "\n",
    "sgd.score(X_train, Y_train)\n",
    "\n",
    "acc_sgd = round(sgd.score(X_train, Y_train) * 100, 2)\n"
   ]
  },
  {
   "cell_type": "code",
   "execution_count": 131,
   "id": "united-grammar",
   "metadata": {},
   "outputs": [],
   "source": [
    "random_forest = RandomForestClassifier(n_estimators=100)\n",
    "random_forest.fit(X_train, Y_train)\n",
    "\n",
    "Y_prediction = random_forest.predict(X_test)\n",
    "\n",
    "random_forest.score(X_train, Y_train)\n",
    "acc_random_forest = round(random_forest.score(X_train, Y_train) * 100, 2)"
   ]
  },
  {
   "cell_type": "code",
   "execution_count": 132,
   "id": "foreign-black",
   "metadata": {},
   "outputs": [],
   "source": [
    "gaussian = GaussianNB() \n",
    "gaussian.fit(X_train, Y_train)\n",
    "Y_pred = gaussian.predict(X_test) \n",
    "acc_gaussian = round(gaussian.score(X_train, Y_train) * 100, 2)"
   ]
  },
  {
   "cell_type": "code",
   "execution_count": 133,
   "id": "varied-calculator",
   "metadata": {},
   "outputs": [],
   "source": [
    "perceptron = Perceptron(max_iter=7)\n",
    "perceptron.fit(X_train, Y_train)\n",
    "\n",
    "Y_pred = perceptron.predict(X_test)\n",
    "\n",
    "acc_perceptron = round(perceptron.score(X_train, Y_train) * 100, 2)"
   ]
  },
  {
   "cell_type": "code",
   "execution_count": 134,
   "id": "ultimate-telephone",
   "metadata": {},
   "outputs": [],
   "source": [
    "decision_tree = DecisionTreeClassifier() \n",
    "decision_tree.fit(X_train, Y_train)\n",
    "Y_pred = decision_tree.predict(X_test) \n",
    "acc_decision_tree = round(decision_tree.score(X_train, Y_train) * 100, 2)"
   ]
  },
  {
   "cell_type": "code",
   "execution_count": 135,
   "id": "pleasant-skill",
   "metadata": {},
   "outputs": [
    {
     "data": {
      "text/html": [
       "<div>\n",
       "<style scoped>\n",
       "    .dataframe tbody tr th:only-of-type {\n",
       "        vertical-align: middle;\n",
       "    }\n",
       "\n",
       "    .dataframe tbody tr th {\n",
       "        vertical-align: top;\n",
       "    }\n",
       "\n",
       "    .dataframe thead th {\n",
       "        text-align: right;\n",
       "    }\n",
       "</style>\n",
       "<table border=\"1\" class=\"dataframe\">\n",
       "  <thead>\n",
       "    <tr style=\"text-align: right;\">\n",
       "      <th></th>\n",
       "      <th>Model</th>\n",
       "    </tr>\n",
       "    <tr>\n",
       "      <th>Score</th>\n",
       "      <th></th>\n",
       "    </tr>\n",
       "  </thead>\n",
       "  <tbody>\n",
       "    <tr>\n",
       "      <th>98.43</th>\n",
       "      <td>Random Forest</td>\n",
       "    </tr>\n",
       "    <tr>\n",
       "      <th>98.43</th>\n",
       "      <td>Decision Tree</td>\n",
       "    </tr>\n",
       "    <tr>\n",
       "      <th>66.11</th>\n",
       "      <td>Naive Bayes</td>\n",
       "    </tr>\n",
       "    <tr>\n",
       "      <th>61.62</th>\n",
       "      <td>Stochastic Gradient Decent</td>\n",
       "    </tr>\n",
       "    <tr>\n",
       "      <th>39.84</th>\n",
       "      <td>Perceptron</td>\n",
       "    </tr>\n",
       "  </tbody>\n",
       "</table>\n",
       "</div>"
      ],
      "text/plain": [
       "                            Model\n",
       "Score                            \n",
       "98.43               Random Forest\n",
       "98.43               Decision Tree\n",
       "66.11                 Naive Bayes\n",
       "61.62  Stochastic Gradient Decent\n",
       "39.84                  Perceptron"
      ]
     },
     "execution_count": 135,
     "metadata": {},
     "output_type": "execute_result"
    }
   ],
   "source": [
    "results = pd.DataFrame({\n",
    "    'Model': ['Random Forest', 'Naive Bayes', 'Perceptron', \n",
    "              'Stochastic Gradient Decent', \n",
    "              'Decision Tree'],\n",
    "    'Score': [acc_random_forest, acc_gaussian, acc_perceptron, \n",
    "              acc_sgd, acc_decision_tree]})\n",
    "result_df = results.sort_values(by='Score', ascending=False)\n",
    "result_df = result_df.set_index('Score')\n",
    "result_df.head(9)"
   ]
  },
  {
   "cell_type": "code",
   "execution_count": 136,
   "id": "arranged-restaurant",
   "metadata": {},
   "outputs": [
    {
     "name": "stdout",
     "output_type": "stream",
     "text": [
      "Scores: [0.8        0.80898876 0.75280899 0.79775281 0.78651685 0.80898876\n",
      " 0.85393258 0.82022472 0.80898876 0.82022472]\n",
      "Mean: 0.8058426966292135\n",
      "Standard Deviation: 0.02457979130584327\n"
     ]
    }
   ],
   "source": [
    "from sklearn.model_selection import cross_val_score\n",
    "rf = RandomForestClassifier(n_estimators=100)\n",
    "scores = cross_val_score(rf, X_train, Y_train, cv=10, scoring = \"accuracy\")\n",
    "print(\"Scores:\", scores)\n",
    "print(\"Mean:\", scores.mean())\n",
    "print(\"Standard Deviation:\", scores.std())"
   ]
  },
  {
   "cell_type": "code",
   "execution_count": 137,
   "id": "seventh-dollar",
   "metadata": {},
   "outputs": [
    {
     "name": "stdout",
     "output_type": "stream",
     "text": [
      "Scores: [0.77777778 0.7752809  0.75280899 0.76404494 0.75280899 0.79775281\n",
      " 0.82022472 0.79775281 0.76404494 0.79775281]\n",
      "Mean: 0.7800249687890137\n",
      "Standard Deviation: 0.02139753836267521\n"
     ]
    }
   ],
   "source": [
    "dt = DecisionTreeClassifier()\n",
    "dt.fit(X_train, Y_train)\n",
    "score1 = cross_val_score(dt,X_train, Y_train, cv=10, scoring = \"accuracy\")\n",
    "print(\"Scores:\", score1)\n",
    "print(\"Mean:\", score1.mean())\n",
    "print(\"Standard Deviation:\", score1.std())"
   ]
  },
  {
   "cell_type": "code",
   "execution_count": 139,
   "id": "alive-asbestos",
   "metadata": {},
   "outputs": [
    {
     "data": {
      "text/html": [
       "<div>\n",
       "<style scoped>\n",
       "    .dataframe tbody tr th:only-of-type {\n",
       "        vertical-align: middle;\n",
       "    }\n",
       "\n",
       "    .dataframe tbody tr th {\n",
       "        vertical-align: top;\n",
       "    }\n",
       "\n",
       "    .dataframe thead th {\n",
       "        text-align: right;\n",
       "    }\n",
       "</style>\n",
       "<table border=\"1\" class=\"dataframe\">\n",
       "  <thead>\n",
       "    <tr style=\"text-align: right;\">\n",
       "      <th></th>\n",
       "      <th>importance</th>\n",
       "    </tr>\n",
       "    <tr>\n",
       "      <th>feature</th>\n",
       "      <th></th>\n",
       "    </tr>\n",
       "  </thead>\n",
       "  <tbody>\n",
       "    <tr>\n",
       "      <th>idade</th>\n",
       "      <td>0.270</td>\n",
       "    </tr>\n",
       "    <tr>\n",
       "      <th>sexo</th>\n",
       "      <td>0.266</td>\n",
       "    </tr>\n",
       "    <tr>\n",
       "      <th>valor_passagem</th>\n",
       "      <td>0.249</td>\n",
       "    </tr>\n",
       "    <tr>\n",
       "      <th>classe_da_passagem</th>\n",
       "      <td>0.095</td>\n",
       "    </tr>\n",
       "    <tr>\n",
       "      <th>irmaos_ou_esposa_a_bordo</th>\n",
       "      <td>0.048</td>\n",
       "    </tr>\n",
       "    <tr>\n",
       "      <th>pais_filhos_a_bordo</th>\n",
       "      <td>0.039</td>\n",
       "    </tr>\n",
       "    <tr>\n",
       "      <th>local_de_embarque</th>\n",
       "      <td>0.032</td>\n",
       "    </tr>\n",
       "  </tbody>\n",
       "</table>\n",
       "</div>"
      ],
      "text/plain": [
       "                          importance\n",
       "feature                             \n",
       "idade                          0.270\n",
       "sexo                           0.266\n",
       "valor_passagem                 0.249\n",
       "classe_da_passagem             0.095\n",
       "irmaos_ou_esposa_a_bordo       0.048\n",
       "pais_filhos_a_bordo            0.039\n",
       "local_de_embarque              0.032"
      ]
     },
     "execution_count": 139,
     "metadata": {},
     "output_type": "execute_result"
    }
   ],
   "source": [
    "importances = pd.DataFrame({'feature':X_train.columns,'importance':np.round(random_forest.feature_importances_,3)})\n",
    "importances = importances.sort_values('importance',ascending=False).set_index('feature')\n",
    "importances.head(15)\n"
   ]
  },
  {
   "cell_type": "code",
   "execution_count": 140,
   "id": "accomplished-saint",
   "metadata": {},
   "outputs": [
    {
     "data": {
      "text/html": [
       "<div>\n",
       "<style scoped>\n",
       "    .dataframe tbody tr th:only-of-type {\n",
       "        vertical-align: middle;\n",
       "    }\n",
       "\n",
       "    .dataframe tbody tr th {\n",
       "        vertical-align: top;\n",
       "    }\n",
       "\n",
       "    .dataframe thead th {\n",
       "        text-align: right;\n",
       "    }\n",
       "</style>\n",
       "<table border=\"1\" class=\"dataframe\">\n",
       "  <thead>\n",
       "    <tr style=\"text-align: right;\">\n",
       "      <th></th>\n",
       "      <th>importance</th>\n",
       "    </tr>\n",
       "    <tr>\n",
       "      <th>feature</th>\n",
       "      <th></th>\n",
       "    </tr>\n",
       "  </thead>\n",
       "  <tbody>\n",
       "    <tr>\n",
       "      <th>sexo</th>\n",
       "      <td>0.306</td>\n",
       "    </tr>\n",
       "    <tr>\n",
       "      <th>valor_passagem</th>\n",
       "      <td>0.243</td>\n",
       "    </tr>\n",
       "    <tr>\n",
       "      <th>idade</th>\n",
       "      <td>0.226</td>\n",
       "    </tr>\n",
       "    <tr>\n",
       "      <th>classe_da_passagem</th>\n",
       "      <td>0.109</td>\n",
       "    </tr>\n",
       "    <tr>\n",
       "      <th>irmaos_ou_esposa_a_bordo</th>\n",
       "      <td>0.053</td>\n",
       "    </tr>\n",
       "    <tr>\n",
       "      <th>local_de_embarque</th>\n",
       "      <td>0.036</td>\n",
       "    </tr>\n",
       "    <tr>\n",
       "      <th>pais_filhos_a_bordo</th>\n",
       "      <td>0.027</td>\n",
       "    </tr>\n",
       "  </tbody>\n",
       "</table>\n",
       "</div>"
      ],
      "text/plain": [
       "                          importance\n",
       "feature                             \n",
       "sexo                           0.306\n",
       "valor_passagem                 0.243\n",
       "idade                          0.226\n",
       "classe_da_passagem             0.109\n",
       "irmaos_ou_esposa_a_bordo       0.053\n",
       "local_de_embarque              0.036\n",
       "pais_filhos_a_bordo            0.027"
      ]
     },
     "execution_count": 140,
     "metadata": {},
     "output_type": "execute_result"
    }
   ],
   "source": [
    "importances = pd.DataFrame({'feature':X_train.columns,'importance':np.round(decision_tree.feature_importances_,3)})\n",
    "importances = importances.sort_values('importance',ascending=False).set_index('feature')\n",
    "importances.head(15)"
   ]
  },
  {
   "cell_type": "code",
   "execution_count": null,
   "id": "fantastic-budapest",
   "metadata": {},
   "outputs": [],
   "source": []
  },
  {
   "cell_type": "code",
   "execution_count": null,
   "id": "solid-referral",
   "metadata": {},
   "outputs": [],
   "source": []
  }
 ],
 "metadata": {
  "kernelspec": {
   "display_name": "Python 3",
   "language": "python",
   "name": "python3"
  },
  "language_info": {
   "codemirror_mode": {
    "name": "ipython",
    "version": 3
   },
   "file_extension": ".py",
   "mimetype": "text/x-python",
   "name": "python",
   "nbconvert_exporter": "python",
   "pygments_lexer": "ipython3",
   "version": "3.7.10"
  },
  "widgets": {
   "application/vnd.jupyter.widget-state+json": {
    "state": {},
    "version_major": 2,
    "version_minor": 0
   }
  }
 },
 "nbformat": 4,
 "nbformat_minor": 5
}
